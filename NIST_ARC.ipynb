{
 "cells": [
  {
   "cell_type": "markdown",
   "metadata": {},
   "source": [
    "<b><font size = 6>  NIST Alternatives for Resilient Communities (ARC)\n",
    "<table ><tr >\n",
    "<td> <p style=\"font-size:16px\">An interactive tool for developing alternative sets of actions that meet community resilience and cost goals, given hazard and interdependency information, and socio-economic data.</p></td>\n",
    "<td> <img src=\"ARCOverviewGraphic.jpg\"/> </td></tr></table>"
   ]
  },
  {
   "cell_type": "markdown",
   "metadata": {},
   "source": [
    "------------------\n",
    "# Introduction"
   ]
  },
  {
   "cell_type": "markdown",
   "metadata": {},
   "source": [
    "This tool was produced within the NIST Community Resilience Program.  It is one of a range of NIST research products that includes guidance documents and other NIST-funded tools available to support community resilience planning:\n",
    "* Community Resilience Planning Guide, providing a six-step process for developing community resilience plans (https://www.nist.gov/topics/community-resilience/planning-guide)\n",
    "* EDGe\\$, a tool for economic analysis (https://edges.nist.gov/)\n",
    "* Center for Risk-based Community Resilience Planning (http://resilience.colostate.edu/in_core.shtml)"
   ]
  },
  {
   "cell_type": "markdown",
   "metadata": {},
   "source": [
    "--------\n",
    "# Setup--Python "
   ]
  },
  {
   "cell_type": "code",
   "execution_count": 1,
   "metadata": {
    "slideshow": {
     "slide_type": "slide"
    }
   },
   "outputs": [],
   "source": [
    "from lib.PythonSetup import *\n",
    "\n",
    "import lib.myGlobals\n",
    "import lib.myAMPL\n",
    "import lib.mySolver\n",
    "import lib.myDirectory\n",
    "import lib.myVisualization\n",
    "import lib.myWidgets\n",
    "import lib.myStats\n",
    "\n",
    "warnings.filterwarnings(action='ignore', category=FutureWarning)\n",
    "warnings.filterwarnings(action='ignore', category=RuntimeWarning)"
   ]
  },
  {
   "cell_type": "markdown",
   "metadata": {},
   "source": [
    "--------\n",
    "# Mathematical Programming Modeling Environment -- AMPL"
   ]
  },
  {
   "cell_type": "markdown",
   "metadata": {},
   "source": [
    "## Setup--AMPL"
   ]
  },
  {
   "cell_type": "code",
   "execution_count": 2,
   "metadata": {},
   "outputs": [
    {
     "name": "stdout",
     "output_type": "stream",
     "text": [
      "...Read NIST ARC configuration file\n",
      "option version 'AMPL Version 20221013 (MSVC 19.29.30146.0, 64-bit)\\\n",
      "Licensed to Natl Institute of Standards and Tech, Ken Harrison <kenneth.harrison@nist.gov> (Hibiscus).\\\n",
      "Maintenance expires with version 20230331.\\\n",
      "Using license file \"C:\\Users\\znf3\\Downloads\\ampl\\ampl.lic\".\\\n",
      "';\n",
      "None\n"
     ]
    }
   ],
   "source": [
    "config=ReadConfigFile()\n",
    "ampl = lib.mySolver.environment(config['File paths']['AMPL'])"
   ]
  },
  {
   "cell_type": "code",
   "execution_count": 3,
   "metadata": {
    "slideshow": {
     "slide_type": "slide"
    }
   },
   "outputs": [],
   "source": [
    "# This function provides the means to enter custom objectives and constraints later in the notebook\n",
    "#@needs_local_scope\n",
    "@register_cell_magic\n",
    "def AMPL_CODE_BLOCK(line,cell):\n",
    "    ampl.eval(cell)"
   ]
  },
  {
   "cell_type": "code",
   "execution_count": 4,
   "metadata": {},
   "outputs": [],
   "source": [
    "ampl.setOption('solver', str(config['File paths']['Solver']))"
   ]
  },
  {
   "cell_type": "code",
   "execution_count": 5,
   "metadata": {},
   "outputs": [],
   "source": [
    "myAMPL = lib.myAMPL.Object(ampl)"
   ]
  },
  {
   "cell_type": "markdown",
   "metadata": {},
   "source": [
    "## Math Program -- Base Model"
   ]
  },
  {
   "cell_type": "code",
   "execution_count": 6,
   "metadata": {},
   "outputs": [
    {
     "name": "stdout",
     "output_type": "stream",
     "text": [
      "lib\\ARC.mod\n"
     ]
    }
   ],
   "source": [
    "# Read in the base ARC model\n",
    "print(str(Path('lib','ARC.mod')))\n",
    "ampl.read(str(Path('lib','ARC.mod')))"
   ]
  },
  {
   "cell_type": "code",
   "execution_count": 7,
   "metadata": {},
   "outputs": [],
   "source": [
    "basesnapshot = myAMPL.takeModelEntitySnapshot()"
   ]
  },
  {
   "cell_type": "markdown",
   "metadata": {},
   "source": [
    "## Custom Objective Functions"
   ]
  },
  {
   "cell_type": "code",
   "execution_count": 8,
   "metadata": {},
   "outputs": [],
   "source": [
    "%%AMPL_CODE_BLOCK\n",
    "\n",
    "minimize RecoveryDisutilityObjectiveFxn:\n",
    "\tRecoveryDisutility;\n",
    "\n",
    "minimize EV_TotalCostObjectiveFxn:\n",
    "\tEV_TotalCost;\n",
    "    \n",
    "minimize MGAObjectiveFxn:\n",
    "\tMGA;    "
   ]
  },
  {
   "cell_type": "markdown",
   "metadata": {},
   "source": [
    "## Custom Constraints"
   ]
  },
  {
   "cell_type": "code",
   "execution_count": 9,
   "metadata": {},
   "outputs": [],
   "source": [
    "%%AMPL_CODE_BLOCK\n",
    "\n",
    "param EV_TotalCost_OVERBRACE 'Total expected costs upper limit [$]' default Infinity; \n",
    "CLimit:\n",
    " \t   EV_TotalCost <= EV_TotalCost_OVERBRACE; \n",
    "        \n",
    "param RecoveryDisutility_OVERBRACE 'recovery time upper limit [equivalent days]' default Infinity; \n",
    "TLimit:\n",
    " \t   RecoveryDisutility <= RecoveryDisutility_OVERBRACE; \n",
    "              \n",
    "param MCLIMIT_lb 'mitigation cost upper limit [$]' {I} default 0;\n",
    "param MCLIMIT_ub 'mitigation cost lower limit [$]' {I} default Infinity;\n",
    "MitConstraint {i in I}: MCLIMIT_lb[i] <= MitigationCostByNode[i] <= MCLIMIT_ub[i];\n",
    "\n",
    "param RLIMIT_lb 'Increase in resistance lower limit [ft]' {I} default 0;\n",
    "param RLIMIT_ub 'Increase in resistance upper limit [ft]' {i in I} default R_OVERBRACE[i];\n",
    "ResistanceConstraint {i in I}: RLIMIT_lb[i] <= r[i] <= RLIMIT_ub[i];"
   ]
  },
  {
   "cell_type": "markdown",
   "metadata": {},
   "source": [
    "--------\n",
    "# Graphical User Interface (GUI)"
   ]
  },
  {
   "cell_type": "markdown",
   "metadata": {},
   "source": [
    "## Setup--GUI"
   ]
  },
  {
   "cell_type": "code",
   "execution_count": 10,
   "metadata": {},
   "outputs": [],
   "source": [
    "mainWidgets = lib.myWidgets.mainWidgets(ampl, myAMPL, basesnapshot)"
   ]
  },
  {
   "cell_type": "code",
   "execution_count": 11,
   "metadata": {},
   "outputs": [],
   "source": [
    "mainWidgets.Events()"
   ]
  },
  {
   "cell_type": "markdown",
   "metadata": {},
   "source": [
    "## Understand the Situation"
   ]
  },
  {
   "cell_type": "markdown",
   "metadata": {},
   "source": [
    "In this section, the input files will be uploaded and the dependency between components will be visualized. \n",
    "The first tab is the <b>\"Input Dataset\"</b> tab with the options to \"Select\", \"Preview\" and \"Upload\" input files. Once the input files are selected, they can previewed and, if they look appropriate, can be uploaded by clicking on the \"Upload\" button. \n",
    "There is also an option to clear the selected files which can be done by clicking on the \"Clear Selected Files\" button. \n",
    "\n",
    "The next tab is the <b>\"System Components\"</b> tab where the parameters and sets will be displayed by clicking on the \"Display\" button. \n",
    "\n",
    "The last tab in this section is the <b>\"System Dependency\"</b> tab where the components and their interdependencies are shown as a networked graph. Nodes in the network represent the components of the system and are connected using directed links. Links show the interdependency between components. \n",
    "In order to visualize the network, first the layout of the graph should be selected from the provided dropdown widgets. For the \"manual\" layout, the \"coordinates\" file is also needed to be uploaded. If the images are available for the components, the \"Show Images\" check box should be marked and then the images should be uploaded. "
   ]
  },
  {
   "cell_type": "code",
   "execution_count": 12,
   "metadata": {},
   "outputs": [
    {
     "data": {
      "application/vnd.jupyter.widget-view+json": {
       "model_id": "0ea9485808ea475abcaa00914c14b394",
       "version_major": 2,
       "version_minor": 0
      },
      "text/plain": [
       "Tab(children=(VBox(children=(Accordion(children=(HBox(children=(FileUpload(value={}, description='Select Files…"
      ]
     },
     "metadata": {},
     "output_type": "display_data"
    }
   ],
   "source": [
    "mainWidgets.Understand_the_Situation"
   ]
  },
  {
   "cell_type": "markdown",
   "metadata": {
    "slideshow": {
     "slide_type": "slide"
    }
   },
   "source": [
    "## Run the Solver and Interactive Search"
   ]
  },
  {
   "cell_type": "markdown",
   "metadata": {},
   "source": [
    "Here we begin by defining custom objective functions and constraints which can also be expanded by the user. Later, in the \"Run Solver\" tab, the list of all the defined objective functions and constraints will be available.\n",
    "\n",
    "This section, consists of the three follwoing tabs:\n",
    "\n",
    "* \"Define Recovery\"\n",
    "* \"Run Solver\"\n",
    "* \"Results\"\n",
    "\n",
    "In the <b>\"Define Recovery\"</b> tab, the recovery end point should be selected by the user from the list of all the components in the system. \n",
    "\n",
    "The next tab is the <b>\"Run Solver\"</b> tab. There are two options: <b>\"Benchmark Solution\"</b> and <b>\"Custom Solution\"</b>. The benchmark solutions include some predefined scenarios such as \"Do Nothing\" or \"Unlimited Budget\" scenarion. For \"Custom Solution\", the user has the option of selecting the objective function along with the appropriate constraint. At this step, the user can either run the solver by clicking on the \"Run Solver\" button or by first adding an additional constraint by marking the <b>\"Add additional constraint\"</b> check box. \n",
    "In order to add additinal con\n",
    "    straint, first the layout of the graph should be selected. Once the graph is displayed, the user can either <b>\"Fix\"</b> a variable or determine a <b>\"Bound\"</b> for a variable by clicking on a node on the graph. Also, the current constraints for each component can be removed by selecting the <b>\"No restriction\"</b> option. Once all additional constraints are defined, the model can be solved by clicking on the \"Run Solver\" button.\n",
    "    \n",
    "The list of all generated solutions are displayed at the end with the options of <b>\"Rename\"</b>, <b>\"Delete\"</b> or <b>\"Save\"</b> in the saved solutions directory. The saved solution directory should be specified by the user.\n",
    "    \n",
    "The last tab in this section is the <b>\"Results\"</b> tab in which the selected solutions in the list will be compared side by side. There are different options for comparison: They can be either compared in terms of <b>\"Top level Info\"</b> or <b>\"Detailed Info\"</b>. To compare the detailed information, there are two options of bar chart or network visualization for both mitigation and recovery stages. "
   ]
  },
  {
   "cell_type": "code",
   "execution_count": 13,
   "metadata": {},
   "outputs": [
    {
     "data": {
      "application/vnd.jupyter.widget-view+json": {
       "model_id": "b86084f93d0c48d8b2bf1d82f36bc0c1",
       "version_major": 2,
       "version_minor": 0
      },
      "text/plain": [
       "Tab(children=(VBox(children=(HBox(children=(Label(value='Select Recovey End Point:', style=DescriptionStyle(de…"
      ]
     },
     "metadata": {},
     "output_type": "display_data"
    }
   ],
   "source": [
    "mainWidgets.Interactive_Solver"
   ]
  },
  {
   "cell_type": "markdown",
   "metadata": {},
   "source": [
    "## Tools"
   ]
  },
  {
   "cell_type": "markdown",
   "metadata": {},
   "source": [
    "The trade-off curve will be displayed in <b>\"Tools\"</b> section by click on the display button."
   ]
  },
  {
   "cell_type": "code",
   "execution_count": 14,
   "metadata": {},
   "outputs": [
    {
     "data": {
      "application/vnd.jupyter.widget-view+json": {
       "model_id": "00d3dd7e014649d8822201acb270c662",
       "version_major": 2,
       "version_minor": 0
      },
      "text/plain": [
       "Tab(children=(VBox(children=(Button(button_style='warning', description='Display', icon='pencil', style=Button…"
      ]
     },
     "metadata": {},
     "output_type": "display_data"
    }
   ],
   "source": [
    "mainWidgets.Tools"
   ]
  }
 ],
 "metadata": {
  "kernelspec": {
   "display_name": "Python 3 (ipykernel)",
   "language": "python",
   "name": "python3"
  },
  "language_info": {
   "codemirror_mode": {
    "name": "ipython",
    "version": 3
   },
   "file_extension": ".py",
   "mimetype": "text/x-python",
   "name": "python",
   "nbconvert_exporter": "python",
   "pygments_lexer": "ipython3",
   "version": "3.10.6"
  }
 },
 "nbformat": 4,
 "nbformat_minor": 4
}
