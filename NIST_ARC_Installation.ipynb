{
 "cells": [
  {
   "cell_type": "markdown",
   "metadata": {},
   "source": [
    "# Installation"
   ]
  },
  {
   "cell_type": "markdown",
   "metadata": {},
   "source": [
    "The purpose of this notebook is to finish the setup to be able to run the NIST ARC jupyter notebook.  Step through the notebook by hitting Shift-Enter."
   ]
  },
  {
   "cell_type": "markdown",
   "metadata": {},
   "source": [
    "## Imports"
   ]
  },
  {
   "cell_type": "code",
   "execution_count": 1,
   "metadata": {},
   "outputs": [],
   "source": [
    "#import setup_NIST_ARC\n",
    "from lib.Installation.setup_NIST_ARC import SelectFileWidget,ReadConfigFile,WriteConfigFile,OKConfigChanges,DisplayConfig,get_conda_info_as_python_dict,configure_jupyter\n",
    "import os\n",
    "from ipyfilechooser import FileChooser\n",
    "import ipywidgets as widgets\n",
    "from ipywidgets import HBox, Label\n",
    "from pathlib import Path, PurePath\n",
    "import json \n",
    "import configparser\n",
    "from pyshortcuts import make_shortcut\n",
    "import subprocess"
   ]
  },
  {
   "cell_type": "markdown",
   "metadata": {},
   "source": [
    "# Read in some needed functions and the existing NIST ARC configuration file"
   ]
  },
  {
   "cell_type": "code",
   "execution_count": 2,
   "metadata": {},
   "outputs": [
    {
     "name": "stdout",
     "output_type": "stream",
     "text": [
      "Creating empty configuration file...\n",
      "...Read NIST ARC configuration file\n",
      "...Conda installation directory: C:\\Users\\znf3\\Anaconda3\n",
      "...Conda information retrieved as Python dictionary\n",
      "...Jupyter will run in this directory when opened in NIST ARC conda environment\n",
      "...Windows batch file written.\n",
      "...NIST ARC added to Start menu, desktop\n"
     ]
    }
   ],
   "source": [
    "init_commands=Path('lib','Installation','Initialization.ipy')\n",
    "%run $init_commands"
   ]
  },
  {
   "cell_type": "code",
   "execution_count": null,
   "metadata": {},
   "outputs": [],
   "source": []
  }
 ],
 "metadata": {
  "kernelspec": {
   "display_name": "Python 3 (ipykernel)",
   "language": "python",
   "name": "python3"
  },
  "language_info": {
   "codemirror_mode": {
    "name": "ipython",
    "version": 3
   },
   "file_extension": ".py",
   "mimetype": "text/x-python",
   "name": "python",
   "nbconvert_exporter": "python",
   "pygments_lexer": "ipython3",
   "version": "3.10.6"
  }
 },
 "nbformat": 4,
 "nbformat_minor": 4
}
